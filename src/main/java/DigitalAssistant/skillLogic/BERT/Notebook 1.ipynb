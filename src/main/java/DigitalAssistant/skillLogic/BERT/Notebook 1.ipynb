{
 "cells": [
  {
   "cell_type": "markdown",
   "metadata": {
    "formattedRanges": [],
    "cell_id": "247581cd602c4d3c8503cd2264d827a0",
    "deepnote_cell_type": "text-cell-h1",
    "pycharm": {
     "name": "#%% md\n"
    }
   },
   "source": [
    "# NLP Project Skill Finder Classifier"
   ]
  },
  {
   "cell_type": "markdown",
   "metadata": {
    "formattedRanges": [],
    "cell_id": "443c3122568d4d38be64aa7c39f99d3f",
    "deepnote_cell_type": "text-cell-h2",
    "pycharm": {
     "name": "#%% md\n"
    }
   },
   "source": [
    "## Importing the data:"
   ]
  },
  {
   "cell_type": "markdown",
   "metadata": {
    "formattedRanges": [],
    "cell_id": "93b09683271c4a25b8c26c06413835a8",
    "deepnote_cell_type": "text-cell-p",
    "pycharm": {
     "name": "#%% md\n"
    }
   },
   "source": [
    "For now we have classifications for these skills under this key:"
   ]
  },
  {
   "cell_type": "markdown",
   "metadata": {
    "formattedRanges": [],
    "cell_id": "3eb6442dbdd94409903c3d236fc08cf0",
    "deepnote_cell_type": "text-cell-p",
    "pycharm": {
     "name": "#%% md\n"
    }
   },
   "source": [
    "DistanceFinder = 1\n",
    "MariekeSkill  = 2\n",
    "Exams = 3\n",
    "Subjects = 4\n",
    "Timer = 5\n",
    "CFGTest = 6\n",
    "Translator = 7\n",
    "OpeningTimes = 8\n",
    "Fixing = 9"
   ]
  },
  {
   "cell_type": "markdown",
   "metadata": {
    "formattedRanges": [],
    "cell_id": "48a67191168d432abf42500ace47b2e8",
    "deepnote_cell_type": "text-cell-p",
    "pycharm": {
     "name": "#%% md\n"
    }
   },
   "source": [
    "Importing the dataset"
   ]
  },
  {
   "cell_type": "code",
   "metadata": {
    "source_hash": "74d67add",
    "execution_start": 1686752769760,
    "execution_millis": 3917,
    "deepnote_to_be_reexecuted": false,
    "cell_id": "5c023e0385f74a819eae78f87345c9cb",
    "deepnote_cell_type": "code",
    "pycharm": {
     "name": "#%%\n"
    }
   },
   "source": [
    "import numpy as np\n",
    "import pandas as pd\n",
    "import seaborn as sns\n",
    "import matplotlib.pyplot as plt\n",
    "import nltk\n",
    "import csv "
   ],
   "execution_count": 16,
   "outputs": []
  },
  {
   "cell_type": "code",
   "metadata": {
    "source_hash": "8daaa6c1",
    "execution_start": 1686752888793,
    "execution_millis": 8,
    "deepnote_to_be_reexecuted": false,
    "cell_id": "87cab1707ed64ed2a858de5dce64c121",
    "deepnote_cell_type": "code",
    "pycharm": {
     "name": "#%%\n"
    }
   },
   "source": [
    "df_data = pd.read_csv('ProjectSkillsDataset.csv')\n",
    "print(df_data)"
   ],
   "execution_count": 17,
   "outputs": [
    {
     "name": "stdout",
     "output_type": "stream",
     "text": [
      "                                              Sentence  Skill\n",
      "0     What is the distance between <CITY1> to <CITY2>?    1.0\n",
      "1    What is the distance between maastricht to hee...    1.0\n",
      "2    What is the distance between Istanbul to New York    1.0\n",
      "3                    What is the distance between to ?    1.0\n",
      "4       What is the distance between Paris and London?    1.0\n",
      "..                                                 ...    ...\n",
      "481                      How to implement your program    9.0\n",
      "482                        How to improve your program    9.0\n",
      "483                       How to optimize your program    9.0\n",
      "484                   How to troubleshoot your program    9.0\n",
      "485            How to resolve issues with your program    9.0\n",
      "\n",
      "[486 rows x 2 columns]\n"
     ]
    }
   ]
  },
  {
   "cell_type": "code",
   "metadata": {
    "source_hash": "ad62422c",
    "execution_start": 1686752950893,
    "execution_millis": 5,
    "deepnote_to_be_reexecuted": false,
    "cell_id": "708f43509f394212beabdcd080afb6a6",
    "deepnote_cell_type": "code",
    "pycharm": {
     "name": "#%%\n"
    }
   },
   "source": [
    "column_names = df_data.columns\n",
    "print(column_names)"
   ],
   "execution_count": 18,
   "outputs": [
    {
     "name": "stdout",
     "output_type": "stream",
     "text": [
      "Index(['Sentence', 'Skill'], dtype='object')\n"
     ]
    }
   ]
  },
  {
   "cell_type": "code",
   "metadata": {
    "source_hash": "47520769",
    "execution_start": 1686753153176,
    "execution_millis": 4,
    "deepnote_to_be_reexecuted": false,
    "cell_id": "1865536a29224129915b8360293d9de8",
    "deepnote_cell_type": "code",
    "pycharm": {
     "name": "#%%\n"
    }
   },
   "source": [
    "X = df_data['Sentence']\n",
    "y = df_data['Skill']"
   ],
   "execution_count": 19,
   "outputs": []
  },
  {
   "cell_type": "markdown",
   "metadata": {
    "formattedRanges": [],
    "cell_id": "d892fff0bfbd487083403af2ed0c9138",
    "deepnote_cell_type": "text-cell-h3",
    "pycharm": {
     "name": "#%% md\n"
    }
   },
   "source": [
    "### BERT with  SVM Model"
   ]
  },
  {
   "cell_type": "code",
   "metadata": {
    "source_hash": "f70bff7e",
    "execution_start": 1686753500396,
    "deepnote_to_be_reexecuted": false,
    "cell_id": "1713eb5291ca4aebb95d8297676d4285",
    "deepnote_cell_type": "code",
    "pycharm": {
     "name": "#%%\n"
    }
   },
   "source": [
    "#!pip install sentence_transformers"
   ],
   "execution_count": 20,
   "outputs": []
  },
  {
   "cell_type": "code",
   "metadata": {
    "source_hash": "f3bb8222",
    "execution_start": 1686753485801,
    "execution_millis": 3552,
    "deepnote_to_be_reexecuted": false,
    "cell_id": "2bad3f950a6a45e6b24f93aafc4b1383",
    "deepnote_cell_type": "code",
    "pycharm": {
     "name": "#%%\n"
    }
   },
   "source": [
    "import pandas as pd\n",
    "from sentence_transformers import SentenceTransformer\n",
    "import tqdm as notebook_tqdm\n",
    "from sklearn.model_selection import train_test_split\n",
    "\n",
    "X_train, X_test, y_train, y_test = train_test_split(X, y, test_size=0.2, stratify=y, random_state=42)"
   ],
   "execution_count": 21,
   "outputs": []
  },
  {
   "cell_type": "code",
   "metadata": {
    "source_hash": "91fff7e4",
    "execution_start": 1686755959933,
    "execution_millis": 15273,
    "deepnote_to_be_reexecuted": false,
    "cell_id": "e3be3efec339455f908c6f20fe615bc3",
    "deepnote_cell_type": "code",
    "pycharm": {
     "name": "#%%\n"
    }
   },
   "source": [
    "X_train_model = X_train.reset_index(drop=True)\n",
    "\n",
    "model = SentenceTransformer('bert-base-nli-mean-tokens')\n",
    "\n",
    "embeddings_sentences_training = model.encode(X_train_model)\n"
   ],
   "execution_count": 22,
   "outputs": []
  },
  {
   "cell_type": "code",
   "metadata": {
    "source_hash": "7ed22154",
    "execution_start": 1686755608802,
    "execution_millis": 64,
    "deepnote_to_be_reexecuted": false,
    "cell_id": "77c74b67576b40dfb5adadab80944ceb",
    "deepnote_cell_type": "code",
    "pycharm": {
     "name": "#%%\n"
    }
   },
   "source": [
    "from sklearn.linear_model import LogisticRegression\n",
    "from sklearn import svm\n",
    "from sklearn.metrics import f1_score, classification_report, accuracy_score\n",
    "\n",
    "\n",
    "\n",
    "#classifier = LogisticRegression(solver='lbfgs', max_iter=10000)    \n",
    "classifier = svm.SVC(kernel='rbf', C=8, probability=True)\n",
    "\n",
    "classifier.fit(embeddings_sentences_training, y_train)\n",
    "\n",
    "print('training score:', f1_score(y_train, classifier.predict(embeddings_sentences_training), average='macro'))\n",
    "#print('test score:', f1_score(y_test, classifier.predict(X_test), average='macro'))\n"
   ],
   "execution_count": 23,
   "outputs": [
    {
     "name": "stdout",
     "output_type": "stream",
     "text": [
      "training score: 1.0\n"
     ]
    }
   ]
  },
  {
   "cell_type": "code",
   "metadata": {
    "source_hash": "e8d46565",
    "execution_start": 1686755985115,
    "execution_millis": 17,
    "deepnote_to_be_reexecuted": false,
    "cell_id": "076062ee46fe453cae6a682c72b662ce",
    "deepnote_cell_type": "code",
    "pycharm": {
     "name": "#%%\n"
    }
   },
   "source": [
    "print(X_test.shape)\n",
    "type(X_test)"
   ],
   "execution_count": 24,
   "outputs": [
    {
     "name": "stdout",
     "output_type": "stream",
     "text": [
      "(98,)\n"
     ]
    },
    {
     "data": {
      "text/plain": "pandas.core.series.Series"
     },
     "execution_count": 24,
     "metadata": {},
     "output_type": "execute_result"
    }
   ]
  },
  {
   "cell_type": "code",
   "metadata": {
    "source_hash": "a6c732ed",
    "execution_start": 1686755518483,
    "execution_millis": 12118,
    "deepnote_to_be_reexecuted": false,
    "cell_id": "7789365dc377439996feb2fee2dea3ef",
    "deepnote_cell_type": "code",
    "pycharm": {
     "name": "#%%\n"
    }
   },
   "source": [
    "X_test_model = X_test.reset_index(drop=True)\n",
    "\n",
    "model = SentenceTransformer('bert-base-nli-mean-tokens')\n",
    "\n",
    "embeddings_sentences_testing = model.encode(X_test_model)"
   ],
   "execution_count": 25,
   "outputs": []
  },
  {
   "cell_type": "code",
   "metadata": {
    "source_hash": "f5ff23c5",
    "execution_start": 1686753810762,
    "execution_millis": 36,
    "deepnote_to_be_reexecuted": false,
    "cell_id": "7562c43c043b4fabaab46ff8cd8ed039",
    "deepnote_cell_type": "code",
    "pycharm": {
     "name": "#%%\n"
    }
   },
   "source": [
    "print('test score:', f1_score(y_test, classifier.predict(embeddings_sentences_testing), average='macro'))\n",
    "print(classification_report(y_test, classifier.predict(embeddings_sentences_testing)))\n"
   ],
   "execution_count": 26,
   "outputs": [
    {
     "name": "stdout",
     "output_type": "stream",
     "text": [
      "test score: 1.0\n",
      "              precision    recall  f1-score   support\n",
      "\n",
      "         1.0       1.00      1.00      1.00        10\n",
      "         2.0       1.00      1.00      1.00         7\n",
      "         3.0       1.00      1.00      1.00        11\n",
      "         4.0       1.00      1.00      1.00        10\n",
      "         5.0       1.00      1.00      1.00        12\n",
      "         6.0       1.00      1.00      1.00        12\n",
      "         7.0       1.00      1.00      1.00        11\n",
      "         8.0       1.00      1.00      1.00        11\n",
      "         9.0       1.00      1.00      1.00        14\n",
      "\n",
      "    accuracy                           1.00        98\n",
      "   macro avg       1.00      1.00      1.00        98\n",
      "weighted avg       1.00      1.00      1.00        98\n",
      "\n"
     ]
    }
   ]
  },
  {
   "cell_type": "code",
   "metadata": {
    "source_hash": "f5292e20",
    "execution_start": 1686756319239,
    "execution_millis": 423,
    "deepnote_to_be_reexecuted": false,
    "cell_id": "bdb9e89c970a495aa2dcb38eff9d628f",
    "deepnote_cell_type": "code",
    "pycharm": {
     "name": "#%%\n"
    }
   },
   "source": [
    "skills = {\n",
    "    1: 'DistanceFinder',\n",
    "    2: 'MariekeSkill',\n",
    "    3: 'Exams',\n",
    "    4: 'Subjects',\n",
    "    5: 'Timer',\n",
    "    6: 'CFGTest',\n",
    "    7: 'Translator',\n",
    "    8: 'OpeningTimes',\n",
    "    9: 'Fixing'\n",
    "}\n",
    "\n",
    "# print(skills[1])\n",
    "\n",
    "sentence = \"Today I was planning on going from colorado. how can i get from colorado to new york at 5?\"\n",
    "sentence = pd.Series(sentence)\n",
    "#print(sentence.shape)\n",
    "encoded_sentence = model.encode(sentence)\n",
    "# print(classifier.predict(encoded_sentence))\n",
    "print(skills[classifier.predict(encoded_sentence)[0]])\n",
    "    "
   ],
   "execution_count": 27,
   "outputs": [
    {
     "name": "stdout",
     "output_type": "stream",
     "text": [
      "DistanceFinder\n"
     ]
    }
   ]
  },
  {
   "cell_type": "code",
   "metadata": {
    "cell_id": "bb2ce59ea65d49af879d19ec6b485e48",
    "deepnote_cell_type": "code",
    "pycharm": {
     "name": "#%%\n"
    }
   },
   "source": [
    "import pickle\n",
    "\n",
    "#with open('embeddings_sentences_training.pickle', 'wb') as pkl:\n",
    "#    pickle.dump(embeddings_sentences_training, pkl)\n",
    "\n",
    "with open('C:/Users/domin/Documents/UM Code Assignments/Project 2.2/embeddings_sentences_training.pickle', 'wb') as f:\n",
    "    pickle.dump(embeddings_sentences_training, f)\n",
    "\n",
    "with open('C:/Users/domin/Documents/UM Code Assignments/Project 2.2/y_train.pickle', 'wb') as f:\n",
    "    pickle.dump(y_train, f)"
   ],
   "execution_count": 28,
   "outputs": []
  },
  {
   "cell_type": "code",
   "execution_count": 28,
   "outputs": [],
   "source": [],
   "metadata": {
    "collapsed": false,
    "pycharm": {
     "name": "#%%\n"
    }
   }
  }
 ],
 "nbformat": 4,
 "nbformat_minor": 0,
 "metadata": {
  "deepnote": {},
  "orig_nbformat": 2,
  "deepnote_notebook_id": "41029eac0a364bdbbb1bc90a99024eb7",
  "deepnote_execution_queue": []
 }
}